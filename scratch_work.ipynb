{
 "cells": [
  {
   "cell_type": "code",
   "execution_count": 1,
   "metadata": {},
   "outputs": [],
   "source": [
    "from io import StringIO\n",
    "from pdfminer.converter import TextConverter\n",
    "from pdfminer.layout import LAParams\n",
    "from pdfminer.pdfdocument import PDFDocument\n",
    "from pdfminer.pdfinterp import PDFResourceManager, PDFPageInterpreter\n",
    "from pdfminer.pdfpage import PDFPage\n",
    "from pdfminer.pdfparser import PDFParser\n",
    "# import PyPDF2 as pdf"
   ]
  },
  {
   "cell_type": "code",
   "execution_count": 34,
   "metadata": {},
   "outputs": [],
   "source": [
    "def read_pdf(file):\n",
    "    parsed_pages = []\n",
    "    output_string = StringIO()\n",
    "    resource_manager = PDFResourceManager()\n",
    "    device = TextConverter(resource_manager, output_string,  laparams=LAParams())\n",
    "    interpreter = PDFPageInterpreter(resource_manager, device)\n",
    "    for page in PDFPage.get_pages(file):\n",
    "        interpreter.process_page(page)\n",
    "        parsed_pages.append(output_string.getvalue())\n",
    "        output_string.truncate(0)\n",
    "        output_string.seek(0)\n",
    "    return parsed_pages"
   ]
  },
  {
   "cell_type": "code",
   "execution_count": 35,
   "metadata": {},
   "outputs": [],
   "source": [
    "pages = read_pdf(bartender)"
   ]
  },
  {
   "cell_type": "code",
   "execution_count": 3,
   "metadata": {},
   "outputs": [],
   "source": [
    "bartender = open('source/1000bartender.pdf', 'rb') \n",
    "testament = open('source/old-testament-finished-combined-2015-09-16.pdf', 'rb') \n",
    "boston = open('source/mr_boston.pdf', 'rb') "
   ]
  },
  {
   "cell_type": "code",
   "execution_count": 16,
   "metadata": {
    "scrolled": true
   },
   "outputs": [],
   "source": [
    "pages = read_pdf(bartender)"
   ]
  },
  {
   "cell_type": "code",
   "execution_count": 39,
   "metadata": {
    "scrolled": false
   },
   "outputs": [
    {
     "data": {
      "text/plain": [
       "'1. BLOODY MARY  Say  Bloody  Mary  three  times  before  bedtime. When  you wake up in the morning, be sure to have one.  1 1/2 ounces vodka (or peppered vodka for spice) 3 ounces tomato juice 1/2 ounce lemon juice  Dash or two Tabasco sauce Dash or two Worcestershire sauce Pinch of celery salt Pinch of pepper Dab of horseradish   1. Chill a cocktail shaker. 2. Add vodka, tomato juice, lemon juice, Tabasco  sauce, and Worcestershire sauce.  3. Add salt, pepper, and horseradish to taste. 4. Pour into a chilled collins glass or beer mug. 5. Garnish with a lime slice or a celery stalk. Also  preferred as garnishes: pickled green beans, okra pods, and garlic stuffed olives.  (See page 52 for original Bloody Mary mix.)  20  1000 BEST BARTENDER’S RECIPES  \\x0c'"
      ]
     },
     "execution_count": 39,
     "metadata": {},
     "output_type": "execute_result"
    }
   ],
   "source": [
    "pages[28].replace('\\n', ' ')"
   ]
  },
  {
   "cell_type": "markdown",
   "metadata": {},
   "source": [
    "## related pages [indices]\n",
    "* `1000bartender`-- (pp.28 - 560)\n",
    "* `old testament` -- (pp.4 - 99 )\n",
    "* `mr boston` -- (pp. 34 - 285)"
   ]
  },
  {
   "cell_type": "code",
   "execution_count": 72,
   "metadata": {
    "scrolled": false
   },
   "outputs": [
    {
     "data": {
      "text/plain": [
       "'/UseOutlines'"
      ]
     },
     "execution_count": 72,
     "metadata": {},
     "output_type": "execute_result"
    }
   ],
   "source": [
    "# pdfReader.getPage(285).extractText()\n",
    "pdfReader.getPageMode()"
   ]
  },
  {
   "cell_type": "code",
   "execution_count": null,
   "metadata": {},
   "outputs": [],
   "source": []
  },
  {
   "cell_type": "code",
   "execution_count": null,
   "metadata": {},
   "outputs": [],
   "source": []
  }
 ],
 "metadata": {
  "kernelspec": {
   "display_name": "Python 3",
   "language": "python",
   "name": "python3"
  },
  "language_info": {
   "codemirror_mode": {
    "name": "ipython",
    "version": 3
   },
   "file_extension": ".py",
   "mimetype": "text/x-python",
   "name": "python",
   "nbconvert_exporter": "python",
   "pygments_lexer": "ipython3",
   "version": "3.6.5"
  }
 },
 "nbformat": 4,
 "nbformat_minor": 2
}
